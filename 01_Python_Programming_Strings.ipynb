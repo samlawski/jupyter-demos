{
 "cells": [
  {
   "attachments": {},
   "cell_type": "markdown",
   "id": "29b9c1d3",
   "metadata": {
    "editable": false,
    "slideshow": {
     "slide_type": ""
    },
    "tags": []
   },
   "source": [
    "# Python Basics 1: Programming Basics & Strings\n",
    "\n",
    "## Table of Contents\n",
    "\n",
    "- [👋 Welcome!](#👋-Welcome!)\n",
    "- [🎯 Lesson outcome](#🎯-Lesson-outcome)\n",
    "- [🤖 How this course works](#🤖-How-this-course-works)\n",
    "- [👩‍💻 This is programming](#👩‍💻-This-is-programming)\n",
    "- [🐍 This is Python](#🐍-This-is-Python)\n",
    "- [🐣 Hello, World!](#🐣-Hello,-World!)\n",
    "- [💭 Comments](#💭-Comments)\n",
    "- [🅰️ Strings](#🅰%EF%B8%8F-Strings)\n",
    "- [🏡 Practice Exercise](#🏡-Practice-Exercise)\n",
    "\n",
    "\n",
    "## 👋 Welcome!\n",
    "\n",
    "Welcome to this **practical introduction to programming**. This course is aimed at complete beginners. It's filled with practical examples so that you can learn by coding, with extra context provided for things that beginners often struggle with.\n",
    "\n",
    "\n",
    "## 🎯 Lesson outcome\n",
    "([Back to top](#Table-of-Contents))\n",
    "\n",
    "In this first lesson, you will be introduced to how this course works and get an elementary introduction to programming in general.\n",
    "\n",
    "At the end of this lesson, you will be able to **write a simple Python program** to **display different lines of text** on computer screens. You will be able to identify and **resolve bugs** (errors in code) and use **comments** to describe your code. \n",
    "\n",
    "\n",
    "## 🤖 How this course works\n",
    "([Back to top](#Table-of-Contents))\n",
    "\n",
    "Below 👇, you see a block of code. Click anywhere within that block. Then, at the top of the interface, you can find an icon to **Run** the code. It should look like a \"Play\" button <kbd>▶</kbd>. Click it. Then, read what appears right below the block of code and follow the instructions. "
   ]
  },
  {
   "cell_type": "code",
   "execution_count": null,
   "id": "47706d4a-20e6-4b90-b056-f00073d80104",
   "metadata": {
    "editable": false,
    "slideshow": {
     "slide_type": ""
    },
    "tags": []
   },
   "outputs": [],
   "source": [
    "# This is the piece of code. CLICK ANYWHERE IN THIS CELL and then on the ▶ \"Run\" button at the top. \n",
    "\n",
    "def fahrenheit_to_celsius(fahrenheit):\n",
    "    return (fahrenheit - 32) * 5/9\n",
    "\n",
    "print('\\n\\n\\033[92mTo convert a Fahrenheit value to Celsius, enter a number\\nand hit the \"Enter\" key on your keyboard.\\033[0m\\n')\n",
    "user_input = input('Fahrenheit:')\n",
    "\n",
    "if user_input.replace(\".\", \"\", 1).isdigit():\n",
    "    fahrenheit_value = float(user_input)\n",
    "    celsius = fahrenheit_to_celsius(fahrenheit_value)\n",
    "    print('\\n\\033[91mConverts to: ' + str(celsius) + ' °C\\033[0m\\n')\n",
    "else:\n",
    "    print(\"You did not enter a whole number. Rerun the code block and try entering a number.\")"
   ]
  },
  {
   "cell_type": "markdown",
   "id": "0d371db3-e67a-418d-942b-ff96927109bf",
   "metadata": {
    "editable": false,
    "slideshow": {
     "slide_type": ""
    },
    "tags": []
   },
   "source": [
    "You just ran a **Python program** to convert one type of measurement to another. This could, for example, be useful when traveling between different countries that use different temperature measurements. And it's just one of many useful things you can do with a programming language like Python. \n",
    "\n",
    "You are able to run the code right here in the middle of the text because this course is written as a **Jupyter Notebook**. If you aren't familiar with Jupyter Notebooks or need a reminder, click the button below. \n",
    "\n",
    "<details>\n",
    "<summary style=\"border: 1px solid; border-radius: 3px; padding: 5px; display: inline-block; cursor: pointer; margin-top: 10px;\">\n",
    "🌚 <b>Jupyter what?</b>\n",
    "</summary>\n",
    "<p>\n",
    "\n",
    ">You are currently looking at a **Jupyter Notebook**. That's a type of file (like a Word or PDF file) that is viewed in a program such as **JupyterLab**, which usually runs in the web browser. The interface can be a bit overwhelming. But, luckily, you can ignore most of it unless you start creating your own notebooks. \n",
    ">\n",
    ">The purpose of a Jupyter file is to combine text and interactive code snippets within the same screen.\n",
    ">\n",
    ">**Jupyter Notebooks are separated into cells**. A **cell** is either **interactive code** or formatted **text**. You can select cells by clicking on them or using the <kbd>↑</kbd> <kbd>↓</kbd> arrow keys on the keyboard. The currently selected cell is highlighted on the left side. \n",
    ">\n",
    ">To edit a cell, you first select it and then hit the <kbd>Enter</kbd> key to start **Edit Mode**. You can have multiple cells in edit mode at once. To **exit Edit Mode**, use the <kbd>Esc</kbd> key on the keyboard.\n",
    ">\n",
    ">Cells can be either text or code. If you have selected a **code cell**, you can hit the keyboard shortcut <kbd>Ctrl</kbd> + <kbd>Enter</kbd> to execute the code and **see the output right below the code cell**. Alternatively, click the \"Run\" `▶` button.\n",
    ">\n",
    ">There is a lot more you can do with Jupyter. But for now, this is all you need to know to work with this file. **Don't worry about breaking anything**. It's just a file running on your computer. You can always close it without saving it, open it again, and reaccess the file's original state.\n",
    ">\n",
    ">You will also notice that many of the cells aren't editable. That's on purpose. The Notebook is set up to allow you to edit only the cells relevant to the exercises.\n",
    ">\n",
    "> 💡 Very occasionally, you may run into an issue where a code cell doesn't run when you hit run. If this happens, save your work (<kbd>Ctrl</kbd> + <kbd>S</kbd> or hit the floppy disc symbol &#128190;) and try logging out and back into CodingLabs. Sometimes you just need to switch it off and on again! If this doesn't work, you may need to do a \"kernel restart\" - check the FAQs for how to do that.\n",
    "\n",
    "\n",
    "</p>\n",
    "</details>\n",
    "<br />\n",
    "\n",
    "We will start with a very short (promise!) bit of background information that hopefully helps you understand the fundamentals of programming and how Python fits into all of this.\n",
    "\n",
    "After that, the majority of the course will be practical examples and exercises. Always try things out yourself and practice what you have seen. \n",
    "\n",
    "**💡 Don't be afraid to break anything. It's only by writing code yourself that you will you actually learn!**\n",
    "\n",
    "## 👩‍💻 This is programming\n",
    "([Back to top](#Table-of-Contents))\n",
    "\n",
    "All computer software and everything you're looking at on the screen now had to be **programmed** at some point. You're using a **program** to view this course (probably a web browser like Firefox or Chrome). This program runs on an **operating system** (like Windows, macOS, iOS, Android, or Linux). The operating system (or \"OS\") is yet another program.\n",
    "\n",
    "All computers (including phones and similar devices) have a piece of hardware called a **\"processor\"**. This is the heart of every computer as it runs the software. There are, of course, a lot more parts than that. But you need to understand that programming is basically writing instructions to be executed by the physical computer processor and all its connected parts. \n",
    "\n",
    "Writing instructions that are understandable to the processor is hard, and these instructions tend not to be very readable by humans. Look at this example of Assembly code to display the message \"Hello, World!\" on a computer screen:\n",
    "\n",
    "```asm\n",
    "org  0x100\n",
    "\n",
    "mov  dx, msg\n",
    "mov  ah, 9\n",
    "\n",
    "int  0x21\n",
    "mov  dl, 0x0d\n",
    "mov  ah, 2\n",
    "\n",
    "int  0x21\n",
    "mov  dl, 0x0a\n",
    "mov  ah, 2\n",
    "\n",
    "int  0x21\n",
    "mov  ah, 0x4c\n",
    "int  0x21\n",
    "\n",
    "msg  db 'Hello, World!$'\n",
    "```\n",
    "\n",
    "That's how developers used to program (and sometimes still do). It's very hard to read. That's why, over time, many new programming languages were developed. These newer programming languages are meant to be understandable to humans. However, to make those programming languages understandable by the processor, they have to be converted back into something closer to the code above. That step is called **\"compiling\"**. \n",
    "\n",
    "Very broadly speaking, there are two ways to **compile** code. Either it is compiled directly on the computer of the developer, or any user who wants to execute the code installs a program on their own computer that compiles the code \"on the fly,\" which is programmer speak for \"as it runs.\" \n",
    "\n",
    "Programming languages like **C**, **C++**, or **Rust** are compiled by the developer. The code gets _compiled_ into an **executable** file. That means all the user has to do is open the program file and it will run on their computer. They don't need anything else. This is true for most desktop applications, games, or phone apps. You download them, click on them, and they \"just work\" (usually).\n",
    "\n",
    "Programming languages like **Python** or **JavaScript**, on the other hand, are usually compiled on the fly. That means when I write a Python program and give it to you, I give you a code file ending with **.py**. If you want to run that file on your computer, you have to have **Python** installed. That's the compiler that, on the fly, turns the Python code into something understandable by the computer. \n",
    "\n",
    "The benefit of the first category of programming languages is that you can give people an executable file (like a .exe file on Windows), and they don't have to worry about installing any additional software to run it. However, they won't be able to read or alter the code.\n",
    "\n",
    "The benefit of the second group of languages is that it's easier to work together with other developers and - if you need to - make changes to the code quickly, since you can share the raw code with the person executing it.\n",
    "\n",
    "There are more differences. But this is enough to know for now to understand how Python works and why you need to have an extra program called \"Python\" installed on your computer to run a Python code file. You can of course also practice with and run Python code in a Jupyter Notebook like this one.\n",
    "\n",
    "## 🐍 This is Python\n",
    "([Back to top](#Table-of-Contents))\n",
    "\n",
    "In this course, you'll learn **Python**. Python is very popular these days because it's very versatile. It's used extensively in data science, web development, and other domains. Compared to other programming languages, Python is also relatively easy to read and write because a lot of it looks like regular English. \n",
    "\n",
    "Python code is compiled into something the processor can understand (see the graphic below) by the software **Python**, which must be installed on your computer to run Python. \n",
    "\n",
    "The Python interpreter (that compiles the code on the fly) is also integrated into **Jupyter Notebooks**. That's why you can execute Python code from within this page."
   ]
  },
  {
   "attachments": {
    "d45e4ebf-1436-4475-8595-01cdb60c0cd4.png": {
     "image/png": "[encoded data removed]"
    }
   },
   "cell_type": "markdown",
   "id": "79bc7fd5-f012-4e19-857e-9fa5ac45ca9d",
   "metadata": {},
   "source": [
    "![01_01_compiler.png](attachment:d45e4ebf-1436-4475-8595-01cdb60c0cd4.png)"
   ]
  },
  {
   "attachments": {},
   "cell_type": "markdown",
   "id": "89e37a19",
   "metadata": {
    "editable": false,
    "slideshow": {
     "slide_type": ""
    },
    "tags": []
   },
   "source": [
    "## 🐣 Hello, World!\n",
    "([Back to top](#Table-of-Contents))\n",
    "\n",
    "Many applications need to display text. To choose a basic example, think of screens on buses or trains that display the next stop. They run some software to display the name of the next stop. They don't need to allow the user to interact with the text in any way. They only need to display the text. \n",
    "\n",
    "The first program that most people learning a programming language write is the [\"Hello, World!\"](https://en.wikipedia.org/wiki/%22Hello,_World!%22_program) program. All it does is output the text `\"Hello, World!\"` on the user's screen. \n",
    "\n",
    ">💡 **Side Note:** When you start programming, you usually start by writing only text-based programs. Programs like the one you're using right now or web apps have **graphical user interfaces (GUI)**. When learning a programming language from scratch, it's common to start with text-based applications only. The first computers didn't have GUIs. And still, nowadays, it's very common to interact with many computers (e.g., web servers) through text-only interfaces. Those interfaces are also called **Terminal** or **Command Line**. Every computer has such an interface. You can find it by searching for the \"Terminal\" application on macOS and Linux. On Windows 10 and up, you can look for the \"Powershell.\"\n",
    ">Developers regularly interact with their computers through the Terminal. It's very useful for executing text-based programs. \n",
    "\n",
    "In Python, you write a single line of code to output the text \"Hello World\" on the screen: \n",
    "\n",
    "```python\n",
    "print(\"Hello, World!\")\n",
    "```\n",
    "\n",
    "Try it! Click on the code cell below 👇 and write the Python code to display \"Hello, World!\". \n",
    "\n",
    "To try out and execute the code, click in the code cell and hit the \"Run\" button at the top. Or hit <kbd>Ctrl</kbd> + <kbd>Enter</kbd> on your keyboard. "
   ]
  },
  {
   "cell_type": "code",
   "execution_count": null,
   "id": "ea937951",
   "metadata": {},
   "outputs": [],
   "source": [
    "print(\"Hello, World!\")"
   ]
  },
  {
   "attachments": {},
   "cell_type": "markdown",
   "id": "a10b53d7",
   "metadata": {
    "editable": false,
    "slideshow": {
     "slide_type": ""
    },
    "tags": []
   },
   "source": [
    "<details>\n",
    "<summary style=\"border: 1px solid; border-radius: 3px; padding: 5px; display: inline-block; cursor: pointer;\">\n",
    "💡 Hint (click to view)\n",
    "</summary>\n",
    "<p>\n",
    "If you get an error message, try to understand what it says. Usually, it contains some plain English text to help you understand what went wrong. \n",
    "\n",
    "In programming, every character counts (and, in Python, even spaces and tabs)! You can break entire programs by forgetting one character or space. So it's essential to work accurately. Double-check that all characters and spaces are correct.\n",
    "</p>\n",
    "</details>"
   ]
  },
  {
   "attachments": {},
   "cell_type": "markdown",
   "id": "a3ea4286",
   "metadata": {
    "editable": false,
    "slideshow": {
     "slide_type": ""
    },
    "tags": []
   },
   "source": [
    "You should see the result \"Hello, World!\" right below the cell. If not, try changing and rerunning the code.\n",
    "\n",
    "🎉 Congrats! You have written your first Python program!\n",
    "\n",
    "`print()` is an example of what's called a **function** in programming. You'll learn more about functions later, but for now just think of it as a pre-defined bit of code that performs a specific task. In the Python language, you can define your own functions or use pre-defined ones - like `print()`. There are a lot of pre-defined functions that let you do useful things, like generating random numbers, for example. The `print()` function outputs or displays any value **inside the parentheses** `()` on the screen.\n",
    "\n",
    "“Hello, World!” (or any set of characters that appear between quotation marks) is a **string**, which you’ll learn more about in the next section.  \n",
    "\n",
    "Run the code in the cells below or change it to see what happens. You may try putting multiple `print()` functions inside the same cell. Just make sure to put each `print()` function on a new line. "
   ]
  },
  {
   "cell_type": "code",
   "execution_count": null,
   "id": "40d3561a",
   "metadata": {
    "editable": true,
    "slideshow": {
     "slide_type": ""
    },
    "tags": []
   },
   "outputs": [],
   "source": [
    "print(42)"
   ]
  },
  {
   "cell_type": "code",
   "execution_count": null,
   "id": "5ed7e192",
   "metadata": {
    "editable": true,
    "slideshow": {
     "slide_type": ""
    },
    "tags": []
   },
   "outputs": [],
   "source": [
    "print(\"This is some random text\")"
   ]
  },
  {
   "cell_type": "code",
   "execution_count": null,
   "id": "fedef981-a5ad-4136-ac0c-74166a66f4e8",
   "metadata": {
    "editable": true,
    "slideshow": {
     "slide_type": ""
    },
    "tags": []
   },
   "outputs": [],
   "source": [
    "print(\"Hello again\""
   ]
  },
  {
   "cell_type": "markdown",
   "id": "8b63c1ae-9fab-4a51-9278-337c27e0e7a2",
   "metadata": {
    "editable": false,
    "slideshow": {
     "slide_type": ""
    },
    "tags": []
   },
   "source": [
    "### 😱 Help! I got an error!\n",
    "\n",
    "**🚀 Don't Panic!**\n",
    "\n",
    "Despite looking red, dangerous, and sometimes quite confusing, **error messages are actually a good thing**. They are there to tell you not only _that_ something went wrong but also _how_ to identify what went wrong. \n",
    "\n",
    "Errors happen all the time, and you will definitely encounter them. So, the first thing you should know now is: **Don't be afraid to break things!** You're learning. This is the best time to encounter issues because they will help you learn. \n",
    "\n",
    "Your first step is always to read the error message and try to understand what it's trying to tell you. **Usually, an error message contains the most crucial information at the beginning or end.** But you may also have to search a bit.\n",
    "\n",
    "For example, the last code block above should throw an error that says `SyntaxError: incomplete input`. It also comes with a visualization of where the error occurred: \n",
    "\n",
    "```python\n",
    "print(\"Hello again\"\n",
    "                   ^\n",
    "```\n",
    "\n",
    "Can you tell what the error is trying to tell you? Try to fix it and then rerun the code. \n",
    "\n",
    "The term \"syntax\" refers to the way the language is written, including the characters (letters or digits), punctuation, and spaces used to write code instructions - more on that below. The fact that this is a \"SyntaxError\" gives you the first clue about what might have gone wrong, while \"incomplete input\" tells you that a piece of code you wrote seems \"incomplete.\" Lastly, errors always tell you where in the code it occurred. In this case, the error message said `line 1` and even gave you a visual representation of where precisely in the line the error occurred. You don't always get errors as easy to work out as this one. But you should always try to read and understand the error message. \n",
    "\n",
    "If you can't figure out what the error is saying, you can copy and paste parts of it into a search engine to see whether someone else has had the same issue before. (That's also precisely how most professional programmers do it!)\n",
    "\n",
    "You'll likely end up on a website like **StackOverflow** or **GitHub**. On StackOverflow, you may scroll through various answers to find one that fits. You can also search directly for your issue there. GitHub is a platform to host code projects. So, if you find solutions there, they might be bug reports or discussions on collaborative code. For a beginner, this might be a bit harder to understand. However, it can be very valuable to read through the discussions of professional programmers to understand how problems are solved in the industry.\n",
    "\n",
    "You can also use a generative AI tool or **LLM (Large Language Model)** to help during your learning process. Popular ones are [OpenAI's ChatGPT](https://chat.openai.com/), [Microsoft's Bing](https://www.bing.com/new), [GitHub's Copilot](https://github.com/features/copilot), [Mozilla's MDN AI Help](https://developer.mozilla.org/en-US/plus/ai-help), and [Google's Bard](https://bard.google.com/). There are also several [free and open-source LLMs](https://chat.lmsys.org/). LLMs are particularly good at some things, but they are not always 100% accurate or reliable. \n",
    "\n",
    "LLMs are particularly good at **explaining concepts in simple terms** (e.g., add \"explain like I'm five ...\" to your prompt). They are also helpful in **explaining code and identifying bugs**. \n",
    "\n",
    "LLMs do work impressively well. However, an LLM is only as good as the data it's been trained with. There is always the chance that the answers it gives are **biased** based on the original sample data, are made up, or are simply wrong. Remember that you can never be 100% certain of the integrity or quality of the results. Always verify AI-generated answers with multiple sources. "
   ]
  },
  {
   "attachments": {},
   "cell_type": "markdown",
   "id": "35018b5c",
   "metadata": {
    "editable": false,
    "slideshow": {
     "slide_type": ""
    },
    "tags": []
   },
   "source": [
    "## 💭 Comments\n",
    "([Back to top](#Table-of-Contents))\n",
    "\n",
    "Every programming language has a feature called **comments**. A comment is a way of adding text to your code that isn't executed. \n",
    "\n",
    "Run the code below and look at the output: "
   ]
  },
  {
   "cell_type": "code",
   "execution_count": null,
   "id": "8e3f71c2",
   "metadata": {
    "editable": true,
    "slideshow": {
     "slide_type": ""
    },
    "tags": []
   },
   "outputs": [],
   "source": [
    "print(1)\n",
    "# print(2)\n",
    "print(3)\n",
    "print(4)"
   ]
  },
  {
   "attachments": {},
   "cell_type": "markdown",
   "id": "36149fb3",
   "metadata": {
    "editable": false,
    "slideshow": {
     "slide_type": ""
    },
    "tags": []
   },
   "source": [
    "Did you notice how one of the numbers isn't printed out? \n",
    "\n",
    "That's because, in Python, the hash symbol `#` turns all characters **after the hash** and **within the same line** into a comment. The code compiler ignores comments. It's as if they don't exist. But for you, as the developer, comments can be very handy because they allow you to add text to your code as an explanation. \n",
    "\n",
    "The code below is broken. How can you fix it? "
   ]
  },
  {
   "cell_type": "code",
   "execution_count": 3,
   "id": "47bb4ab2",
   "metadata": {
    "editable": true,
    "slideshow": {
     "slide_type": ""
    },
    "tags": []
   },
   "outputs": [],
   "source": [
    "print(\"How do I get this to work?\") this is a print statement."
   ]
  },
  {
   "attachments": {},
   "cell_type": "markdown",
   "id": "d90ea0ab",
   "metadata": {
    "editable": false,
    "slideshow": {
     "slide_type": ""
    },
    "tags": []
   },
   "source": [
    "Execute the code as it is. You'll see a \"SyntaxError.\" \n",
    "\n",
    "As noted above, the **syntax** of a programming language refers to rules that govern the use of words, punctuation, and spaces in that language.\n",
    "\n",
    "If you run the code above as is, Python will think `this is a print statement` is part of the code and not understand what to do with it. It'll break because `this is a print statement` isn't part of the official Python **syntax**.\n",
    "\n",
    "Can you think of a way to fix the broken code using comments? "
   ]
  },
  {
   "attachments": {},
   "cell_type": "markdown",
   "id": "59a1f5ae",
   "metadata": {
    "editable": false,
    "slideshow": {
     "slide_type": ""
    },
    "tags": []
   },
   "source": [
    "<details>\n",
    "<summary style=\"border: 1px solid; border-radius: 3px; padding: 5px; display: inline-block; cursor: pointer;\">\n",
    "💡 Hint\n",
    "</summary>\n",
    "<p>\n",
    "Remember, you can use the `#` symbol in Python to start a comment. \n",
    "\n",
    "A comment doesn't have to start at the beginning of a line. You can fix the code by adding the `#` after the official Python code ends and before the description text `this is a print statement` starts.\n",
    "</p>\n",
    "</details>"
   ]
  },
  {
   "attachments": {},
   "cell_type": "markdown",
   "id": "b6bcc49d",
   "metadata": {
    "editable": false,
    "slideshow": {
     "slide_type": ""
    },
    "tags": []
   },
   "source": [
    "## 🅰️ Strings\n",
    "([Back to top](#Table-of-Contents))\n",
    "\n",
    "The first bit of code you've been working with - print(\"Hello, World!\") - is made up of two distinct parts: the `print()` function and the `\"Hello World\"` string.\n",
    "\n",
    "The `print()` function is predefined by the language - it's like a tool that already exists in Python's tool box for you to use to carry out certain actions.\n",
    "\n",
    "`\"Hello World\"`, or any other string (which can be a mixture of letters, digits, and punctuation, always found between a set of single or double quotation marks), is data that is input into the program by you, the programmer. It's like the material that you bring to the workshop to work with.\n",
    "\n",
    "Sidenote: A **string** is just one of various **data types** in programming, each of which has different characteristics and functionality, just like different materials you might bring to a workshop have different properties. You’ll learn more about how to work with different data types (including numbers and lists, for example) as the course goes on; we'll focus on strings for now.\n",
    "\n",
    "Have a look at the following code. Try to execute it and then inspect the error: "
   ]
  },
  {
   "cell_type": "code",
   "execution_count": null,
   "id": "63ddc23b",
   "metadata": {
    "editable": true,
    "slideshow": {
     "slide_type": ""
    },
    "tags": []
   },
   "outputs": [],
   "source": [
    "print(\"I'm a broken string.)"
   ]
  },
  {
   "attachments": {},
   "cell_type": "markdown",
   "id": "49f098b5",
   "metadata": {
    "editable": false,
    "slideshow": {
     "slide_type": ""
    },
    "tags": []
   },
   "source": [
    "<details>\n",
    "<summary style=\"border: 1px solid; border-radius: 3px; padding: 5px; display: inline-block; cursor: pointer;\">\n",
    "💡 Hint\n",
    "</summary>\n",
    "<p>\n",
    "\n",
    "Pay close attention to which type of quotes are used to start the string. You must add the same type of quotes at the end of the string **but before** the closing parentheses. The string must be **inside** the parentheses of the `print()` function.    \n",
    "\n",
    "</p>\n",
    "</details>"
   ]
  },
  {
   "attachments": {},
   "cell_type": "markdown",
   "id": "b77bf2b7",
   "metadata": {
    "editable": false,
    "slideshow": {
     "slide_type": ""
    },
    "tags": []
   },
   "source": [
    "You may have noticed in the example above that the string is wrapped inside double quotes `\"` but also contains one single quote `'` (i.e. used as an apostrophe in this case). In Python, you can use either type to mark a string, but you must use the same one both for the beginning and the end. \n",
    "\n",
    "If you need to use either of those as part of the string text, you can use the other type to mark the beginning and end, as we have done above. \n",
    "\n",
    "Alternatively, you can also use a backslash `\\` to tell Python that the following mark is part of (and not the end of) the string, like this: "
   ]
  },
  {
   "cell_type": "code",
   "execution_count": null,
   "id": "1be7590b",
   "metadata": {
    "editable": true,
    "slideshow": {
     "slide_type": ""
    },
    "tags": []
   },
   "outputs": [],
   "source": [
    "print('I\\'m a working string')"
   ]
  },
  {
   "attachments": {},
   "cell_type": "markdown",
   "id": "4e24370a",
   "metadata": {
    "editable": false,
    "slideshow": {
     "slide_type": ""
    },
    "tags": []
   },
   "source": [
    "In the example above, play around with the different types of quotes and `\\` backslash. Try to get a feel for what happens when you move things around. \n",
    "\n",
    "Then, try to fix the broken pieces of code below:"
   ]
  },
  {
   "cell_type": "code",
   "execution_count": null,
   "id": "79fff07f",
   "metadata": {
    "editable": true,
    "slideshow": {
     "slide_type": ""
    },
    "tags": []
   },
   "outputs": [],
   "source": [
    "print(\"This string is supposed to say \"Hello World\"!\")"
   ]
  },
  {
   "cell_type": "code",
   "execution_count": null,
   "id": "4ffc3c45",
   "metadata": {
    "editable": true,
    "slideshow": {
     "slide_type": ""
    },
    "tags": []
   },
   "outputs": [],
   "source": [
    "print('This is not quite right\")"
   ]
  },
  {
   "cell_type": "code",
   "execution_count": null,
   "id": "0bc14a53",
   "metadata": {
    "editable": true,
    "slideshow": {
     "slide_type": ""
    },
    "tags": []
   },
   "outputs": [],
   "source": [
    "print('I'm very happy to have written my first \"Hello World\" program!')"
   ]
  },
  {
   "attachments": {},
   "cell_type": "markdown",
   "id": "52a596d2",
   "metadata": {
    "editable": false,
    "slideshow": {
     "slide_type": ""
    },
    "tags": []
   },
   "source": [
    "<details>\n",
    "<summary style=\"border: 1px solid; border-radius: 3px; padding: 5px; display: inline-block; cursor: pointer;\">\n",
    "💡 Hint\n",
    "</summary>\n",
    "<p>\n",
    "    \n",
    "1. The first statement uses double quotes inside the string. So, to Python, it looks like the string ends after `to say \"`. Then, it doesn't know what to do with `Hello` as that's not part of the Python syntax. You can fix this by wrapping the entire string with single quotes or by using `\\` to **escape** the quotes inside the string.\n",
    "2. The quotes at the start and end of the print statement don't match. One of them has to be changed. \n",
    "3. In this example, you'll have to use `\\`, because both types of quotes are used inside the string. \n",
    "    \n",
    "</p>\n",
    "</details>"
   ]
  },
  {
   "attachments": {},
   "cell_type": "markdown",
   "id": "8a3f4cc6",
   "metadata": {
    "editable": false,
    "slideshow": {
     "slide_type": ""
    },
    "tags": []
   },
   "source": [
    "Python has many built-in functions. For example, `print()` is a built-in function to work with strings specifically. There are also ways to count characters, split strings, or add them back together. We will not cover those functions here. But it's good to already know there will be much more you can do with strings in the future.\n",
    "\n",
    "## 🏡 Practice Exercise\n",
    "([Back to top](#Table-of-Contents))\n",
    "\n",
    "You have now learned the basics of programming and how to deal with errors. You also learned the basics of code **syntax** and can use code to display text on a computer screen. Finally, you're able to use comments to describe your code. \n",
    "\n",
    "At the end of each lesson for the rest of the course, there’s an **extra practice exercise** that will enable you to practice what’s been covered in each lesson and really cement your learning.\n",
    "\n",
    "You have two options for how to do these: if you want to **take things further** 💪 and get to use what you’ve learned outside of Jupyter notebooks (just as a professional programmer would!), you can **install Python** on your computer. Instructions on how to do this are below. \n",
    "\n",
    ">💡 If that feels like too much at this stage, you can also complete the exercises within Coding Labs by simply opening a new Jupyter notebook and adding a new code cell for each exercise. To the right of whichever Jupyter notebook tabs you have open, you can see a `+` sign to make a new tab; just click that, and then, in the new tab, click the top option: Notebook. \n",
    "\n",
    "**Ready to install Python?** 🚀 \n",
    "\n",
    "1. You need a very, very basic understanding of [how to use the command line or Terminal](https://developer.mozilla.org/en-US/docs/Learn/Tools_and_testing/Understanding_client-side_tools/Command_line) of your computer. It can be a bit intimidating at first. But it won't take too long to familiarize yourself with it.\n",
    "2. Make sure Python version 3 is installed on your computer. On Windows, you can install Python through the Windows Store. On macOS, you can just download and install Python [from the official python.org website](https://www.python.org/downloads/). On Linux, you can usually install it through a package installer. Common commands to do that are `sudo apt-get update` and `sudo apt-get install python3`. \n",
    "3. Next, you need a code editor. You can use any text editor to open and edit files in their raw format (without adding visual styles - like in Word). A popular free tool today is [Visual Studio Code](https://code.visualstudio.com/). But there are plenty of other alternatives. \n",
    "\n",
    "Once you've gone through all these steps, you can use the code editor to create a new blank file on your computer. (Make sure you remember in which folder you created the file on your computer!)\n",
    "\n",
    "You can fill that file with Python code. For example: \n",
    "\n",
    "```python\n",
    "print('Hello World')\n",
    "```\n",
    "\n",
    "Then, save that file and make sure it ends with `.py` (for \"Python\"). For example: `test.py`. \n",
    "\n",
    "To execute that Python code file you need to have a very basic understanding of the command line ([see this link](https://developer.mozilla.org/en-US/docs/Learn/Tools_and_testing/Understanding_client-side_tools/Command_line)). At the very least you need to know how to navigate your computer and open specific folders in the command line. Navigate to the folder the new Python file is in through the command line. Then, type `python3 test.py` and hit the <kbd>Enter</kbd> key to execute the file. That's it. You just ran a Python program!"
   ]
  },
  {
   "cell_type": "markdown",
   "id": "37c12b4b-7141-4607-9d97-73f22f0fdc9e",
   "metadata": {
    "editable": false,
    "slideshow": {
     "slide_type": ""
    },
    "tags": []
   },
   "source": [
    "--- \n",
    "\n",
    "_Author: Samuel Boguslawski - Current Version: Apr 23, 2024 - © 2024 Licensed under [CC BY-NC 4.0](https://creativecommons.org/licenses/by-nc/4.0/?ref=chooser-v1)_"
   ]
  }
 ],
 "metadata": {
  "kernelspec": {
   "display_name": "Python 3 (ipykernel)",
   "language": "python",
   "name": "python3"
  },
  "language_info": {
   "codemirror_mode": {
    "name": "ipython",
    "version": 3
   },
   "file_extension": ".py",
   "mimetype": "text/x-python",
   "name": "python",
   "nbconvert_exporter": "python",
   "pygments_lexer": "ipython3",
   "version": "3.11.4"
  },
  "vscode": {
   "interpreter": {
    "hash": "58243efc57a824e48bd8accfc07ecdf19a1d136d4cb030c6b2d8e282c2acc61d"
   }
  }
 },
 "nbformat": 4,
 "nbformat_minor": 5
}
